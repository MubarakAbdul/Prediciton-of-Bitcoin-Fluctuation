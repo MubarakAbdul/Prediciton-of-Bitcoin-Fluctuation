{
 "cells": [
  {
   "cell_type": "code",
   "execution_count": 1,
   "metadata": {
    "collapsed": true
   },
   "outputs": [],
   "source": [
    "import requests\n",
    "import bs4 as bs\n",
    "import pandas as pd\n",
    "import numpy as np\n",
    "import warnings\n",
    "import re\n",
    "import datetime\n",
    "import time\n",
    "warnings.filterwarnings('ignore')\n",
    "\n",
    "import matplotlib.pyplot as plt\n",
    "%matplotlib inline\n",
    "from __future__ import print_function, division, absolute_import #make compatible with Python 2 and Python 3"
   ]
  },
  {
   "cell_type": "code",
   "execution_count": 2,
   "metadata": {},
   "outputs": [
    {
     "name": "stdout",
     "output_type": "stream",
     "text": [
      "25 pages completed!\n",
      "50 pages completed!\n",
      "75 pages completed!\n",
      "100 pages completed!\n",
      "125 pages completed!\n",
      "150 pages completed!\n",
      "175 pages completed!\n",
      "200 pages completed!\n",
      "225 pages completed!\n",
      "250 pages completed!\n",
      "275 pages completed!\n",
      "300 pages completed!\n"
     ]
    }
   ],
   "source": [
    "#Scraping code for InvestFeed\n",
    "record = pd.DataFrame()\n",
    "for i in range(0,303):\n",
    "    post=[]\n",
    "    date=[]\n",
    "    url = \"https://www.investfeed.com/currency/BTC?page=\"+str(i)\n",
    "    soup = bs.BeautifulSoup(requests.get(url).text, \"html.parser\")\n",
    "    content = soup.find_all('div', attrs={'class': 'post-content'})\n",
    "    date_time = soup.find_all('div',attrs={'class':'floated-right'})\n",
    "    for x in range(len(content)):\n",
    "        post.append(re.sub(r'\\s+', ' ', content[x].text))\n",
    "        date.append(re.sub(r'\\s+',' ',date_time[x].text))\n",
    "    if (i+1)%25 == 0:\n",
    "        print('{} pages completed!'.format(i+1))\n",
    "    t1 = pd.Series(date)\n",
    "    t2 = pd.Series(post)\n",
    "    temp_record = pd.concat([t1,t2],axis=1)\n",
    "    record = pd.concat([record,temp_record]).reset_index(drop=True)"
   ]
  },
  {
   "cell_type": "code",
   "execution_count": 3,
   "metadata": {},
   "outputs": [
    {
     "data": {
      "text/plain": [
       "(3030, 2)"
      ]
     },
     "execution_count": 3,
     "metadata": {},
     "output_type": "execute_result"
    }
   ],
   "source": [
    "record.shape"
   ]
  },
  {
   "cell_type": "code",
   "execution_count": 131,
   "metadata": {
    "collapsed": true
   },
   "outputs": [],
   "source": [
    "#record = record.drop(record[record.index > 2264].index) #Elements beyond this had random content. 2264 captures all posts."
   ]
  },
  {
   "cell_type": "code",
   "execution_count": 7,
   "metadata": {
    "collapsed": true
   },
   "outputs": [],
   "source": [
    "record = record.rename(columns = {0:'Date',1:'Post'})"
   ]
  },
  {
   "cell_type": "code",
   "execution_count": 8,
   "metadata": {
    "collapsed": true
   },
   "outputs": [],
   "source": [
    "record['Date'] = pd.to_datetime(record['Date']).dt.date #Converting from str to datetime obj and retaining just the dates"
   ]
  },
  {
   "cell_type": "code",
   "execution_count": 14,
   "metadata": {},
   "outputs": [
    {
     "data": {
      "text/html": [
       "<div>\n",
       "<style>\n",
       "    .dataframe thead tr:only-child th {\n",
       "        text-align: right;\n",
       "    }\n",
       "\n",
       "    .dataframe thead th {\n",
       "        text-align: left;\n",
       "    }\n",
       "\n",
       "    .dataframe tbody tr th {\n",
       "        vertical-align: top;\n",
       "    }\n",
       "</style>\n",
       "<table border=\"1\" class=\"dataframe\">\n",
       "  <thead>\n",
       "    <tr style=\"text-align: right;\">\n",
       "      <th></th>\n",
       "      <th>Date</th>\n",
       "      <th>Post</th>\n",
       "    </tr>\n",
       "  </thead>\n",
       "  <tbody>\n",
       "    <tr>\n",
       "      <th>0</th>\n",
       "      <td>2018-01-22</td>\n",
       "      <td>Weekly Review in Crypto January 22nd. Here is...</td>\n",
       "    </tr>\n",
       "    <tr>\n",
       "      <th>1</th>\n",
       "      <td>2018-01-22</td>\n",
       "      <td>http://ifeed.io/HJjWw #Crypto #Cryptocurrency...</td>\n",
       "    </tr>\n",
       "    <tr>\n",
       "      <th>2</th>\n",
       "      <td>2018-01-22</td>\n",
       "      <td>Free Airdrop Get $5 worth free $CCRB for just...</td>\n",
       "    </tr>\n",
       "    <tr>\n",
       "      <th>3</th>\n",
       "      <td>2018-01-22</td>\n",
       "      <td>The Crypto top 10 by market cap is up and dow...</td>\n",
       "    </tr>\n",
       "    <tr>\n",
       "      <th>4</th>\n",
       "      <td>2018-01-22</td>\n",
       "      <td>Sent $BTC last night. Super fast - less than ...</td>\n",
       "    </tr>\n",
       "    <tr>\n",
       "      <th>5</th>\n",
       "      <td>2018-01-22</td>\n",
       "      <td>Use the coupon code: OPEN18! to receive a 20%...</td>\n",
       "    </tr>\n",
       "    <tr>\n",
       "      <th>6</th>\n",
       "      <td>2018-01-22</td>\n",
       "      <td>Everyday Above Ground Is A Good Day.... #XRP ...</td>\n",
       "    </tr>\n",
       "    <tr>\n",
       "      <th>7</th>\n",
       "      <td>2018-01-22</td>\n",
       "      <td>Boy does it feel good to buy $VEN at 7,404 sa...</td>\n",
       "    </tr>\n",
       "    <tr>\n",
       "      <th>8</th>\n",
       "      <td>2018-01-22</td>\n",
       "      <td>http://ifeed.io/EkCx1 Bitcoin Mining Contract...</td>\n",
       "    </tr>\n",
       "    <tr>\n",
       "      <th>9</th>\n",
       "      <td>2018-01-22</td>\n",
       "      <td>Coin of the Day: #EOS Enjoy! http://ifeed.io/...</td>\n",
       "    </tr>\n",
       "    <tr>\n",
       "      <th>10</th>\n",
       "      <td>2018-01-22</td>\n",
       "      <td>Weekly Review in Crypto January 22nd. Here is...</td>\n",
       "    </tr>\n",
       "    <tr>\n",
       "      <th>11</th>\n",
       "      <td>2018-01-22</td>\n",
       "      <td>http://ifeed.io/HJjWw #Crypto #Cryptocurrency...</td>\n",
       "    </tr>\n",
       "    <tr>\n",
       "      <th>12</th>\n",
       "      <td>2018-01-22</td>\n",
       "      <td>Free Airdrop Get $5 worth free $CCRB for just...</td>\n",
       "    </tr>\n",
       "    <tr>\n",
       "      <th>13</th>\n",
       "      <td>2018-01-22</td>\n",
       "      <td>The Crypto top 10 by market cap is up and dow...</td>\n",
       "    </tr>\n",
       "    <tr>\n",
       "      <th>14</th>\n",
       "      <td>2018-01-22</td>\n",
       "      <td>Sent $BTC last night. Super fast - less than ...</td>\n",
       "    </tr>\n",
       "    <tr>\n",
       "      <th>15</th>\n",
       "      <td>2018-01-22</td>\n",
       "      <td>Use the coupon code: OPEN18! to receive a 20%...</td>\n",
       "    </tr>\n",
       "    <tr>\n",
       "      <th>16</th>\n",
       "      <td>2018-01-22</td>\n",
       "      <td>Everyday Above Ground Is A Good Day.... #XRP ...</td>\n",
       "    </tr>\n",
       "    <tr>\n",
       "      <th>17</th>\n",
       "      <td>2018-01-22</td>\n",
       "      <td>Boy does it feel good to buy $VEN at 7,404 sa...</td>\n",
       "    </tr>\n",
       "    <tr>\n",
       "      <th>18</th>\n",
       "      <td>2018-01-22</td>\n",
       "      <td>http://ifeed.io/EkCx1 Bitcoin Mining Contract...</td>\n",
       "    </tr>\n",
       "    <tr>\n",
       "      <th>19</th>\n",
       "      <td>2018-01-22</td>\n",
       "      <td>Coin of the Day: #EOS Enjoy! http://ifeed.io/...</td>\n",
       "    </tr>\n",
       "    <tr>\n",
       "      <th>20</th>\n",
       "      <td>2018-01-21</td>\n",
       "      <td>Bull flag on $BTC I think we are going to bou...</td>\n",
       "    </tr>\n",
       "  </tbody>\n",
       "</table>\n",
       "</div>"
      ],
      "text/plain": [
       "          Date                                               Post\n",
       "0   2018-01-22   Weekly Review in Crypto January 22nd. Here is...\n",
       "1   2018-01-22   http://ifeed.io/HJjWw #Crypto #Cryptocurrency...\n",
       "2   2018-01-22   Free Airdrop Get $5 worth free $CCRB for just...\n",
       "3   2018-01-22   The Crypto top 10 by market cap is up and dow...\n",
       "4   2018-01-22   Sent $BTC last night. Super fast - less than ...\n",
       "5   2018-01-22   Use the coupon code: OPEN18! to receive a 20%...\n",
       "6   2018-01-22   Everyday Above Ground Is A Good Day.... #XRP ...\n",
       "7   2018-01-22   Boy does it feel good to buy $VEN at 7,404 sa...\n",
       "8   2018-01-22   http://ifeed.io/EkCx1 Bitcoin Mining Contract...\n",
       "9   2018-01-22   Coin of the Day: #EOS Enjoy! http://ifeed.io/...\n",
       "10  2018-01-22   Weekly Review in Crypto January 22nd. Here is...\n",
       "11  2018-01-22   http://ifeed.io/HJjWw #Crypto #Cryptocurrency...\n",
       "12  2018-01-22   Free Airdrop Get $5 worth free $CCRB for just...\n",
       "13  2018-01-22   The Crypto top 10 by market cap is up and dow...\n",
       "14  2018-01-22   Sent $BTC last night. Super fast - less than ...\n",
       "15  2018-01-22   Use the coupon code: OPEN18! to receive a 20%...\n",
       "16  2018-01-22   Everyday Above Ground Is A Good Day.... #XRP ...\n",
       "17  2018-01-22   Boy does it feel good to buy $VEN at 7,404 sa...\n",
       "18  2018-01-22   http://ifeed.io/EkCx1 Bitcoin Mining Contract...\n",
       "19  2018-01-22   Coin of the Day: #EOS Enjoy! http://ifeed.io/...\n",
       "20  2018-01-21   Bull flag on $BTC I think we are going to bou..."
      ]
     },
     "execution_count": 14,
     "metadata": {},
     "output_type": "execute_result"
    }
   ],
   "source": [
    "record.head(21)"
   ]
  },
  {
   "cell_type": "code",
   "execution_count": 15,
   "metadata": {
    "collapsed": true
   },
   "outputs": [],
   "source": [
    "record = record.iloc[20:].reset_index(drop=True) #Prices unavailable for Novmeber 30th"
   ]
  },
  {
   "cell_type": "code",
   "execution_count": 16,
   "metadata": {},
   "outputs": [
    {
     "data": {
      "text/html": [
       "<div>\n",
       "<style>\n",
       "    .dataframe thead tr:only-child th {\n",
       "        text-align: right;\n",
       "    }\n",
       "\n",
       "    .dataframe thead th {\n",
       "        text-align: left;\n",
       "    }\n",
       "\n",
       "    .dataframe tbody tr th {\n",
       "        vertical-align: top;\n",
       "    }\n",
       "</style>\n",
       "<table border=\"1\" class=\"dataframe\">\n",
       "  <thead>\n",
       "    <tr style=\"text-align: right;\">\n",
       "      <th></th>\n",
       "      <th>Date</th>\n",
       "      <th>Post</th>\n",
       "    </tr>\n",
       "  </thead>\n",
       "  <tbody>\n",
       "    <tr>\n",
       "      <th>0</th>\n",
       "      <td>2018-01-21</td>\n",
       "      <td>Bull flag on $BTC I think we are going to bou...</td>\n",
       "    </tr>\n",
       "    <tr>\n",
       "      <th>1</th>\n",
       "      <td>2018-01-21</td>\n",
       "      <td>#BTC IS KING!</td>\n",
       "    </tr>\n",
       "    <tr>\n",
       "      <th>2</th>\n",
       "      <td>2018-01-21</td>\n",
       "      <td>Have a great weekend everybody! #bitcoin #eth...</td>\n",
       "    </tr>\n",
       "    <tr>\n",
       "      <th>3</th>\n",
       "      <td>2018-01-21</td>\n",
       "      <td>Hello Investfeed and my fellow coin nerds!! W...</td>\n",
       "    </tr>\n",
       "    <tr>\n",
       "      <th>4</th>\n",
       "      <td>2018-01-21</td>\n",
       "      <td>Once This Happens Cardano Will Go To The Moon...</td>\n",
       "    </tr>\n",
       "  </tbody>\n",
       "</table>\n",
       "</div>"
      ],
      "text/plain": [
       "         Date                                               Post\n",
       "0  2018-01-21   Bull flag on $BTC I think we are going to bou...\n",
       "1  2018-01-21                                     #BTC IS KING! \n",
       "2  2018-01-21   Have a great weekend everybody! #bitcoin #eth...\n",
       "3  2018-01-21   Hello Investfeed and my fellow coin nerds!! W...\n",
       "4  2018-01-21   Once This Happens Cardano Will Go To The Moon..."
      ]
     },
     "execution_count": 16,
     "metadata": {},
     "output_type": "execute_result"
    }
   ],
   "source": [
    "record.head()"
   ]
  },
  {
   "cell_type": "code",
   "execution_count": 17,
   "metadata": {
    "collapsed": true
   },
   "outputs": [],
   "source": [
    "col_names = ['Date','Price']\n",
    "btc = pd.read_csv('btc_price.csv',header=None,names=col_names)"
   ]
  },
  {
   "cell_type": "code",
   "execution_count": 48,
   "metadata": {},
   "outputs": [
    {
     "name": "stdout",
     "output_type": "stream",
     "text": [
      "(365, 3)\n"
     ]
    },
    {
     "data": {
      "text/html": [
       "<div>\n",
       "<style>\n",
       "    .dataframe thead tr:only-child th {\n",
       "        text-align: right;\n",
       "    }\n",
       "\n",
       "    .dataframe thead th {\n",
       "        text-align: left;\n",
       "    }\n",
       "\n",
       "    .dataframe tbody tr th {\n",
       "        vertical-align: top;\n",
       "    }\n",
       "</style>\n",
       "<table border=\"1\" class=\"dataframe\">\n",
       "  <thead>\n",
       "    <tr style=\"text-align: right;\">\n",
       "      <th></th>\n",
       "      <th>Date</th>\n",
       "      <th>Price</th>\n",
       "      <th>Sentiment</th>\n",
       "    </tr>\n",
       "  </thead>\n",
       "  <tbody>\n",
       "    <tr>\n",
       "      <th>0</th>\n",
       "      <td>2017-01-22</td>\n",
       "      <td>918.603625</td>\n",
       "      <td>0</td>\n",
       "    </tr>\n",
       "    <tr>\n",
       "      <th>1</th>\n",
       "      <td>2017-01-23</td>\n",
       "      <td>922.073612</td>\n",
       "      <td>1</td>\n",
       "    </tr>\n",
       "    <tr>\n",
       "      <th>2</th>\n",
       "      <td>2017-01-24</td>\n",
       "      <td>890.320225</td>\n",
       "      <td>0</td>\n",
       "    </tr>\n",
       "    <tr>\n",
       "      <th>3</th>\n",
       "      <td>2017-01-25</td>\n",
       "      <td>893.045625</td>\n",
       "      <td>1</td>\n",
       "    </tr>\n",
       "    <tr>\n",
       "      <th>4</th>\n",
       "      <td>2017-01-26</td>\n",
       "      <td>915.956250</td>\n",
       "      <td>1</td>\n",
       "    </tr>\n",
       "  </tbody>\n",
       "</table>\n",
       "</div>"
      ],
      "text/plain": [
       "         Date       Price  Sentiment\n",
       "0  2017-01-22  918.603625          0\n",
       "1  2017-01-23  922.073612          1\n",
       "2  2017-01-24  890.320225          0\n",
       "3  2017-01-25  893.045625          1\n",
       "4  2017-01-26  915.956250          1"
      ]
     },
     "execution_count": 48,
     "metadata": {},
     "output_type": "execute_result"
    }
   ],
   "source": [
    "print(btc.shape)\n",
    "btc.head()"
   ]
  },
  {
   "cell_type": "code",
   "execution_count": 49,
   "metadata": {
    "collapsed": true
   },
   "outputs": [],
   "source": [
    "#Setting labels for the Bitcoin prices to perform Sentiment Analysis\n",
    "label=[]\n",
    "for i in range(1,btc.shape[0]):\n",
    "    if (btc.iat[i,1]>btc.iat[i-1,1]):\n",
    "        btc.loc[btc.index[i],'Sentiment']=1\n",
    "    else:\n",
    "        btc.loc[btc.index[i],'Sentiment']=0\n",
    "btc.loc[btc.index[0],'Sentiment']=0 #To match indices with btc. This false value will anyway go away when we trim BTC to match record df.\n",
    "btc['Sentiment'] = btc['Sentiment'].astype(int)"
   ]
  },
  {
   "cell_type": "code",
   "execution_count": 50,
   "metadata": {
    "collapsed": true
   },
   "outputs": [],
   "source": [
    "btc['Date'] = pd.to_datetime(btc['Date']).dt.date"
   ]
  },
  {
   "cell_type": "code",
   "execution_count": 51,
   "metadata": {},
   "outputs": [
    {
     "data": {
      "text/html": [
       "<div>\n",
       "<style>\n",
       "    .dataframe thead tr:only-child th {\n",
       "        text-align: right;\n",
       "    }\n",
       "\n",
       "    .dataframe thead th {\n",
       "        text-align: left;\n",
       "    }\n",
       "\n",
       "    .dataframe tbody tr th {\n",
       "        vertical-align: top;\n",
       "    }\n",
       "</style>\n",
       "<table border=\"1\" class=\"dataframe\">\n",
       "  <thead>\n",
       "    <tr style=\"text-align: right;\">\n",
       "      <th></th>\n",
       "      <th>Date</th>\n",
       "      <th>Price</th>\n",
       "      <th>Sentiment</th>\n",
       "    </tr>\n",
       "  </thead>\n",
       "  <tbody>\n",
       "    <tr>\n",
       "      <th>0</th>\n",
       "      <td>2017-01-22</td>\n",
       "      <td>918.603625</td>\n",
       "      <td>0</td>\n",
       "    </tr>\n",
       "    <tr>\n",
       "      <th>1</th>\n",
       "      <td>2017-01-23</td>\n",
       "      <td>922.073612</td>\n",
       "      <td>1</td>\n",
       "    </tr>\n",
       "    <tr>\n",
       "      <th>2</th>\n",
       "      <td>2017-01-24</td>\n",
       "      <td>890.320225</td>\n",
       "      <td>0</td>\n",
       "    </tr>\n",
       "    <tr>\n",
       "      <th>3</th>\n",
       "      <td>2017-01-25</td>\n",
       "      <td>893.045625</td>\n",
       "      <td>1</td>\n",
       "    </tr>\n",
       "    <tr>\n",
       "      <th>4</th>\n",
       "      <td>2017-01-26</td>\n",
       "      <td>915.956250</td>\n",
       "      <td>1</td>\n",
       "    </tr>\n",
       "  </tbody>\n",
       "</table>\n",
       "</div>"
      ],
      "text/plain": [
       "         Date       Price  Sentiment\n",
       "0  2017-01-22  918.603625          0\n",
       "1  2017-01-23  922.073612          1\n",
       "2  2017-01-24  890.320225          0\n",
       "3  2017-01-25  893.045625          1\n",
       "4  2017-01-26  915.956250          1"
      ]
     },
     "execution_count": 51,
     "metadata": {},
     "output_type": "execute_result"
    }
   ],
   "source": [
    "btc.head()"
   ]
  },
  {
   "cell_type": "code",
   "execution_count": 52,
   "metadata": {
    "collapsed": true
   },
   "outputs": [],
   "source": [
    "temp = record.merge(btc, on='Date', how='inner')"
   ]
  },
  {
   "cell_type": "code",
   "execution_count": 53,
   "metadata": {
    "collapsed": true
   },
   "outputs": [],
   "source": [
    "sent = temp.drop('Price',1)"
   ]
  },
  {
   "cell_type": "code",
   "execution_count": 54,
   "metadata": {},
   "outputs": [
    {
     "data": {
      "text/html": [
       "<div>\n",
       "<style>\n",
       "    .dataframe thead tr:only-child th {\n",
       "        text-align: right;\n",
       "    }\n",
       "\n",
       "    .dataframe thead th {\n",
       "        text-align: left;\n",
       "    }\n",
       "\n",
       "    .dataframe tbody tr th {\n",
       "        vertical-align: top;\n",
       "    }\n",
       "</style>\n",
       "<table border=\"1\" class=\"dataframe\">\n",
       "  <thead>\n",
       "    <tr style=\"text-align: right;\">\n",
       "      <th></th>\n",
       "      <th>Date</th>\n",
       "      <th>Post</th>\n",
       "      <th>Sentiment</th>\n",
       "    </tr>\n",
       "  </thead>\n",
       "  <tbody>\n",
       "    <tr>\n",
       "      <th>0</th>\n",
       "      <td>2018-01-21</td>\n",
       "      <td>Bull flag on $BTC I think we are going to bou...</td>\n",
       "      <td>0</td>\n",
       "    </tr>\n",
       "    <tr>\n",
       "      <th>1</th>\n",
       "      <td>2018-01-21</td>\n",
       "      <td>#BTC IS KING!</td>\n",
       "      <td>0</td>\n",
       "    </tr>\n",
       "    <tr>\n",
       "      <th>2</th>\n",
       "      <td>2018-01-21</td>\n",
       "      <td>Have a great weekend everybody! #bitcoin #eth...</td>\n",
       "      <td>0</td>\n",
       "    </tr>\n",
       "    <tr>\n",
       "      <th>3</th>\n",
       "      <td>2018-01-21</td>\n",
       "      <td>Hello Investfeed and my fellow coin nerds!! W...</td>\n",
       "      <td>0</td>\n",
       "    </tr>\n",
       "    <tr>\n",
       "      <th>4</th>\n",
       "      <td>2018-01-21</td>\n",
       "      <td>Once This Happens Cardano Will Go To The Moon...</td>\n",
       "      <td>0</td>\n",
       "    </tr>\n",
       "  </tbody>\n",
       "</table>\n",
       "</div>"
      ],
      "text/plain": [
       "         Date                                               Post  Sentiment\n",
       "0  2018-01-21   Bull flag on $BTC I think we are going to bou...          0\n",
       "1  2018-01-21                                     #BTC IS KING!           0\n",
       "2  2018-01-21   Have a great weekend everybody! #bitcoin #eth...          0\n",
       "3  2018-01-21   Hello Investfeed and my fellow coin nerds!! W...          0\n",
       "4  2018-01-21   Once This Happens Cardano Will Go To The Moon...          0"
      ]
     },
     "execution_count": 54,
     "metadata": {},
     "output_type": "execute_result"
    }
   ],
   "source": [
    "sent.head()"
   ]
  },
  {
   "cell_type": "code",
   "execution_count": 55,
   "metadata": {},
   "outputs": [
    {
     "data": {
      "text/plain": [
       "(3010, 3)"
      ]
     },
     "execution_count": 55,
     "metadata": {},
     "output_type": "execute_result"
    }
   ],
   "source": [
    "sent.shape"
   ]
  },
  {
   "cell_type": "code",
   "execution_count": 56,
   "metadata": {},
   "outputs": [
    {
     "name": "stdout",
     "output_type": "stream",
     "text": [
      "1    1807\n",
      "0    1203\n",
      "Name: Sentiment, dtype: int64\n"
     ]
    },
    {
     "data": {
      "image/png": "[encoded data removed]",
      "text/plain": [
       "<matplotlib.figure.Figure at 0x1a23679978>"
      ]
     },
     "metadata": {},
     "output_type": "display_data"
    }
   ],
   "source": [
    "print(sent.Sentiment.value_counts())\n",
    "sent.Sentiment.hist(); "
   ]
  },
  {
   "cell_type": "code",
   "execution_count": 57,
   "metadata": {},
   "outputs": [
    {
     "name": "stdout",
     "output_type": "stream",
     "text": [
      "Average character length of the posts are:\n",
      "251.68504983388704\n"
     ]
    }
   ],
   "source": [
    "#Apply length function to the review column\n",
    "lengths = sent.Post.apply(len)\n",
    "\n",
    "print('Average character length of the posts are:')\n",
    "print (np.mean(lengths))"
   ]
  },
  {
   "cell_type": "markdown",
   "metadata": {},
   "source": [
    "# NLP"
   ]
  },
  {
   "cell_type": "code",
   "execution_count": 58,
   "metadata": {
    "collapsed": true
   },
   "outputs": [],
   "source": [
    "import nltk\n",
    "#nltk.download()"
   ]
  },
  {
   "cell_type": "code",
   "execution_count": 59,
   "metadata": {
    "collapsed": true
   },
   "outputs": [],
   "source": [
    "from nltk.tokenize import sent_tokenize\n",
    "from nltk.stem import PorterStemmer\n",
    "from nltk.tag import pos_tag\n",
    "from nltk.corpus import stopwords\n",
    "from nltk.corpus import wordnet\n",
    "from nltk.stem import WordNetLemmatizer\n",
    "\n",
    "eng = stopwords.words('English')"
   ]
  },
  {
   "cell_type": "code",
   "execution_count": 33,
   "metadata": {},
   "outputs": [
    {
     "name": "stdout",
     "output_type": "stream",
     "text": [
      " Bull flag on $BTC I think we are going to bounce around in here for a while. Alts most likely will flourish. Ill only become bearish if we close below the channel on the 1 day. But it seems like strong support #HODL #BTC (Im new to investfeed I hope im doing this right 😬) \n"
     ]
    }
   ],
   "source": [
    "test_post = sent['Post'][0]# the review used for initial analysis\n",
    "print(test_post)"
   ]
  },
  {
   "cell_type": "code",
   "execution_count": 34,
   "metadata": {},
   "outputs": [
    {
     "name": "stdout",
     "output_type": "stream",
     "text": [
      "4\n"
     ]
    },
    {
     "data": {
      "text/plain": [
       "[' Bull flag on $BTC I think we are going to bounce around in here for a while.',\n",
       " 'Alts most likely will flourish.',\n",
       " 'Ill only become bearish if we close below the channel on the 1 day.',\n",
       " 'But it seems like strong support #HODL #BTC (Im new to investfeed I hope im doing this right 😬)']"
      ]
     },
     "execution_count": 34,
     "metadata": {},
     "output_type": "execute_result"
    }
   ],
   "source": [
    "print(len(sent_tokenize(test_post)))\n",
    "sent_tokenize(test_post) # doesn't really split all sentences"
   ]
  },
  {
   "cell_type": "code",
   "execution_count": 35,
   "metadata": {},
   "outputs": [
    {
     "name": "stdout",
     "output_type": "stream",
     "text": [
      "4\n",
      "\n",
      " Bull flag on $BTC I think we are going to bounce around in here for a while.\n",
      "\n",
      "Alts most likely will flourish.\n",
      "\n",
      "Ill only become bearish if we close below the channel on the 1 day.\n",
      "\n",
      "But it seems like strong support #HODL #BTC (Im new to investfeed I hope im doing this right 😬)\n",
      "\n"
     ]
    }
   ],
   "source": [
    "# Check if it does a better job if we add space after every period\n",
    "test_post = test_post.replace('.','. ')\n",
    "\n",
    "print(len(sent_tokenize(test_post)), end='\\n\\n') # number of sentences\n",
    "\n",
    "# print all sentences on a new line\n",
    "for sent in sent_tokenize(test_post):\n",
    "    print(sent, end='\\n\\n')"
   ]
  },
  {
   "cell_type": "code",
   "execution_count": 36,
   "metadata": {},
   "outputs": [
    {
     "name": "stdout",
     "output_type": "stream",
     "text": [
      " Bull flag on  BTC I think we are going to bounce around in here for a while   Alts most likely will flourish   Ill only become bearish if we close below the channel on the   day   But it seems like strong support  HODL  BTC  Im new to investfeed I hope im doing this right    \n"
     ]
    }
   ],
   "source": [
    "test_post = re.sub('[^a-zA-Z]',' ',test_post)\n",
    "print(test_post) # remove special character"
   ]
  },
  {
   "cell_type": "code",
   "execution_count": 37,
   "metadata": {
    "collapsed": true
   },
   "outputs": [],
   "source": [
    "test_post = test_post.lower()"
   ]
  },
  {
   "cell_type": "code",
   "execution_count": 38,
   "metadata": {},
   "outputs": [
    {
     "data": {
      "text/plain": [
       "' bull flag on  btc i think we are going to bounce around in here for a while   alts most likely will flourish   ill only become bearish if we close below the channel on the   day   but it seems like strong support  hodl  btc  im new to investfeed i hope im doing this right    '"
      ]
     },
     "execution_count": 38,
     "metadata": {},
     "output_type": "execute_result"
    }
   ],
   "source": [
    "test_post"
   ]
  },
  {
   "cell_type": "code",
   "execution_count": 39,
   "metadata": {},
   "outputs": [
    {
     "name": "stdout",
     "output_type": "stream",
     "text": [
      "['bull', 'flag', 'on', 'btc', 'i', 'think', 'we', 'are', 'going', 'to']\n",
      "53\n"
     ]
    }
   ],
   "source": [
    "test_post_words = test_post.split()\n",
    "print(test_post_words[:10]) # tokenize and lower case\n",
    "print(len(test_post_words))"
   ]
  },
  {
   "cell_type": "code",
   "execution_count": 40,
   "metadata": {},
   "outputs": [
    {
     "name": "stdout",
     "output_type": "stream",
     "text": [
      "bull flag on btc i think we are go to bounc around in here for a while alt most like will flourish ill onli becom bearish if we close below the channel on the day but it seem like strong support hodl btc im new to investfe i hope im do thi right\n"
     ]
    }
   ],
   "source": [
    "ps = PorterStemmer() #initialize Porter Stemmer object\n",
    "\n",
    "ps_stems = []\n",
    "for w in test_post_words:\n",
    "    ps_stems.append(ps.stem(w))\n",
    "\n",
    "print(' '.join(ps_stems)) # add all the stemmed words to one string"
   ]
  },
  {
   "cell_type": "code",
   "execution_count": 41,
   "metadata": {},
   "outputs": [
    {
     "data": {
      "text/plain": [
       "[('bull', 'NN'),\n",
       " ('flag', 'NN'),\n",
       " ('on', 'IN'),\n",
       " ('btc', 'NN'),\n",
       " ('i', 'NN'),\n",
       " ('think', 'VBP'),\n",
       " ('we', 'PRP'),\n",
       " ('are', 'VBP'),\n",
       " ('going', 'VBG'),\n",
       " ('to', 'TO')]"
      ]
     },
     "execution_count": 41,
     "metadata": {},
     "output_type": "execute_result"
    }
   ],
   "source": [
    "#parts of speech tagging\n",
    "\n",
    "token_tag = pos_tag(test_post_words)\n",
    "token_tag[:10]"
   ]
  },
  {
   "cell_type": "code",
   "execution_count": 42,
   "metadata": {
    "collapsed": true
   },
   "outputs": [],
   "source": [
    "def get_wordnet_pos(treebank_tag):\n",
    "\n",
    "    if treebank_tag.startswith('J'):\n",
    "        return wordnet.ADJ\n",
    "    elif treebank_tag.startswith('V'):\n",
    "        return wordnet.VERB\n",
    "    elif treebank_tag.startswith('N'):\n",
    "        return wordnet.NOUN\n",
    "    elif treebank_tag.startswith('R'):\n",
    "        return wordnet.ADV\n",
    "    else:\n",
    "        return 'n'"
   ]
  },
  {
   "cell_type": "code",
   "execution_count": 295,
   "metadata": {},
   "outputs": [
    {
     "name": "stdout",
     "output_type": "stream",
     "text": [
      "btc we hit short term resistance today and be now hit the upper breakout trend line the daily and hourly chart be signal a potential short term reversal so i would look to sell short term breakout unless we get a nice reversal back above if you like my analysis and it help a tip would be appreciate cheer etc eth ltc\n"
     ]
    }
   ],
   "source": [
    "#from nltk.stem import WordNetLemmatizer\n",
    "\n",
    "\n",
    "wnl = WordNetLemmatizer()\n",
    "\n",
    "wnl_stems = []\n",
    "for pair in token_tag:\n",
    "    res = wnl.lemmatize(pair[0],pos=get_wordnet_pos(pair[1]))\n",
    "    wnl_stems.append(res)\n",
    "\n",
    "print(' '.join(wnl_stems))"
   ]
  },
  {
   "cell_type": "code",
   "execution_count": 45,
   "metadata": {
    "collapsed": true
   },
   "outputs": [],
   "source": [
    "def post_cleaner(post):\n",
    "    \n",
    "    #1. Use regex to find emoticons\n",
    "    emoticons = re.findall('(?::|;|=)(?:-)?(?:\\)|\\(|D|P)', post)\n",
    "    \n",
    "    #2. Remove punctuation\n",
    "    post = re.sub(\"[^a-zA-Z]\", \" \",post)\n",
    "    \n",
    "    #3. Tokenize into words (all lower case)\n",
    "    post = post.lower().split()\n",
    "    \n",
    "    #4. Remove stopwords\n",
    "    eng_stopwords = set(stopwords.words(\"english\"))\n",
    "    post = [w for w in post if not w in eng_stopwords]\n",
    "    \n",
    "    #5. Join the review to one sentence\n",
    "    post = ' '.join(post+emoticons)\n",
    "    # add emoticons to the end\n",
    "\n",
    "    return(post)"
   ]
  },
  {
   "cell_type": "code",
   "execution_count": 60,
   "metadata": {},
   "outputs": [
    {
     "name": "stdout",
     "output_type": "stream",
     "text": [
      "Done with 500 posts\n",
      "Done with 1000 posts\n",
      "Done with 1500 posts\n",
      "Done with 2000 posts\n",
      "Done with 2500 posts\n",
      "Done with 3000 posts\n",
      "CPU times: user 651 ms, sys: 588 ms, total: 1.24 s\n",
      "Wall time: 1.24 s\n"
     ]
    }
   ],
   "source": [
    "%%time\n",
    "\n",
    "num_posts = len(sent['Post'])\n",
    "\n",
    "post_clean_original = []\n",
    "\n",
    "for i in range(0,num_posts):\n",
    "    if( (i+1)%500 == 0 ):\n",
    "        # print progress\n",
    "        print(\"Done with %d posts\" %(i+1)) \n",
    "    post_clean_original.append(post_cleaner(record['Post'][i]))"
   ]
  },
  {
   "cell_type": "code",
   "execution_count": 67,
   "metadata": {},
   "outputs": [
    {
     "name": "stdout",
     "output_type": "stream",
     "text": [
      "Done with 500 posts\n",
      "Done with 1000 posts\n",
      "Done with 1500 posts\n",
      "Done with 2000 posts\n",
      "Done with 2500 posts\n",
      "Done with 3000 posts\n",
      "CPU times: user 7.32 s, sys: 378 ms, total: 7.7 s\n",
      "Wall time: 7.83 s\n"
     ]
    }
   ],
   "source": [
    "%%time\n",
    "# Lemmatizer\n",
    "\n",
    "post_clean_wnl = []\n",
    "\n",
    "wnl = WordNetLemmatizer()\n",
    "\n",
    "for i in range(0,num_posts):\n",
    "    if( (i+1)%500 == 0 ):\n",
    "        # print progress\n",
    "        print(\"Done with %d posts\" %(i+1)) \n",
    "    \n",
    "    wnl_stems = []\n",
    "    token_tag = pos_tag(post_clean_original[i].split())\n",
    "    for pair in token_tag:\n",
    "        res = wnl.lemmatize(pair[0],pos=get_wordnet_pos(pair[1]))\n",
    "        wnl_stems.append(res)\n",
    "\n",
    "    post_clean_wnl.append(' '.join(wnl_stems))"
   ]
  },
  {
   "cell_type": "code",
   "execution_count": 69,
   "metadata": {},
   "outputs": [],
   "source": [
    "from sklearn.ensemble import RandomForestClassifier\n",
    "from sklearn.feature_extraction.text import CountVectorizer\n",
    "from sklearn import metrics\n",
    "from sklearn.model_selection import train_test_split\n",
    "\n",
    "# put everything together in a function\n",
    "\n",
    "def predict_sentiment(cleaned_posts, y=sent[\"Sentiment\"]):\n",
    "\n",
    "    print(\"Creating the bag of words model..\\n\")\n",
    "    # CountVectorizer\" is scikit-learn's bag of words tool, here we show more keywords \n",
    "    bigram_vectorizer = CountVectorizer(analyzer = \"word\",   \\\n",
    "                                 ngram_range=(1,2),    \\\n",
    "                                 tokenizer = None,    \\\n",
    "                                 preprocessor = None, \\\n",
    "                                 stop_words = None,   \\\n",
    "                                 max_features = 2000) \n",
    "    \n",
    "    X_train, X_test, y_train, y_test = train_test_split(\\\n",
    "    cleaned_posts, y, random_state=0, test_size=0.2)\n",
    "\n",
    "    # Then we use fit_transform() to fit the model / learn the vocabulary,\n",
    "    # then transform the data into feature vectors.\n",
    "    # The input should be a list of strings. .toarraty() converts to a numpy array\n",
    "    \n",
    "    train_bag = bigram_vectorizer.fit_transform(X_train).toarray()\n",
    "    test_bag = bigram_vectorizer.transform(X_test).toarray()\n",
    "\n",
    "    # You can extract the vocabulary created by CountVectorizer\n",
    "    # by running print(vectorizer.get_feature_names())\n",
    "\n",
    "\n",
    "    print(\"Training the random forest classifier..\\n\")\n",
    "    # Initialize a Random Forest classifier with 75 trees\n",
    "    forest = RandomForestClassifier(n_estimators = 50) \n",
    "\n",
    "    # Fit the forest to the training set, using the bag of words as \n",
    "    # features and the sentiment labels as the target variable\n",
    "    forest = forest.fit(train_bag, y_train)\n",
    "\n",
    "\n",
    "    train_predictions = forest.predict(train_bag)\n",
    "    test_predictions = forest.predict(test_bag)\n",
    "    \n",
    "    train_acc = metrics.accuracy_score(y_train, train_predictions)\n",
    "    valid_acc = metrics.accuracy_score(y_test, test_predictions)\n",
    "    print(\"The training accuracy is: \", train_acc, \"\\n\", \"The validation accuracy is: \", valid_acc)\n",
    "    print()\n",
    "    print()\n",
    "    #Extract feature importnace\n",
    "    print('TOP TEN IMPORTANT FEATURES:')\n",
    "    importances = forest.feature_importances_\n",
    "    indices = np.argsort(importances)[::-1]\n",
    "    top_10 = indices[:15]\n",
    "    print([bigram_vectorizer.get_feature_names()[ind] for ind in top_10])"
   ]
  },
  {
   "cell_type": "code",
   "execution_count": 70,
   "metadata": {},
   "outputs": [
    {
     "name": "stdout",
     "output_type": "stream",
     "text": [
      "Creating the bag of words model..\n",
      "\n",
      "Training the random forest classifier..\n",
      "\n",
      "The training accuracy is:  0.985880398671 \n",
      " The validation accuracy is:  0.599667774086\n",
      "\n",
      "\n",
      "TOP TEN IMPORTANT FEATURES:\n",
      "['bitcoin', 'cryptocurrency', 'btc', 'crypto', 'bch', 'ifeed', 'soon', 'ift', 'http ifeed', 'eth', 'btc ift', 'investfeed', 'like', 'http', 'fud']\n"
     ]
    }
   ],
   "source": [
    "predict_sentiment(post_clean_original) #Accuracy measure with original sentences"
   ]
  },
  {
   "cell_type": "code",
   "execution_count": 71,
   "metadata": {},
   "outputs": [
    {
     "name": "stdout",
     "output_type": "stream",
     "text": [
      "Creating the bag of words model..\n",
      "\n",
      "Training the random forest classifier..\n",
      "\n",
      "The training accuracy is:  0.985880398671 \n",
      " The validation accuracy is:  0.563122923588\n",
      "\n",
      "\n",
      "TOP TEN IMPORTANT FEATURES:\n",
      "['bitcoin', 'cryptocurrency', 'btc', 'bch', 'crypto', 'io', 'soon', 'eth', 'get', 'btc ift', 'coin', 'fud', 'go', 'investfeed', 'ico']\n"
     ]
    }
   ],
   "source": [
    "predict_sentiment(post_clean_wnl) #Lemmatized sentences lead to lower accuracy"
   ]
  },
  {
   "cell_type": "code",
   "execution_count": null,
   "metadata": {
    "collapsed": true
   },
   "outputs": [],
   "source": []
  }
 ],
 "metadata": {
  "kernelspec": {
   "display_name": "Python 3",
   "language": "python",
   "name": "python3"
  },
  "language_info": {
   "codemirror_mode": {
    "name": "ipython",
    "version": 3
   },
   "file_extension": ".py",
   "mimetype": "text/x-python",
   "name": "python",
   "nbconvert_exporter": "python",
   "pygments_lexer": "ipython3",
   "version": "3.6.3"
  }
 },
 "nbformat": 4,
 "nbformat_minor": 2
}
